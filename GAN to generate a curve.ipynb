{
 "cells": [
  {
   "cell_type": "code",
   "execution_count": null,
   "id": "a2b2288f",
   "metadata": {},
   "outputs": [],
   "source": [
    "## Use this walkthrough to code two GANs \n",
    "# First a GAN that generates a curve \n",
    "# Then a GAN that generates digits\n",
    "# https://realpython.com/generative-adversarial-networks/"
   ]
  },
  {
   "cell_type": "code",
   "execution_count": 1,
   "id": "4bcdda47",
   "metadata": {},
   "outputs": [],
   "source": [
    "import torch\n",
    "from torch import nn\n",
    "\n",
    "import math\n",
    "import matplotlib.pyplot as plt"
   ]
  },
  {
   "cell_type": "code",
   "execution_count": 2,
   "id": "194ffd8d",
   "metadata": {},
   "outputs": [
    {
     "data": {
      "text/plain": [
       "<torch._C.Generator at 0x7f8fa83c0550>"
      ]
     },
     "execution_count": 2,
     "metadata": {},
     "output_type": "execute_result"
    }
   ],
   "source": [
    "torch.manual_seed(111)"
   ]
  },
  {
   "cell_type": "code",
   "execution_count": 3,
   "id": "60cf7736",
   "metadata": {},
   "outputs": [],
   "source": [
    "train_data_length = 1024\n",
    "train_data = torch.zeros((train_data_length, 2))\n",
    "train_data[:, 0] = 2 * math.pi * torch.rand(train_data_length)\n",
    "train_data[:, 1] = torch.sin(train_data[:, 0])\n",
    "train_labels = torch.zeros(train_data_length)\n",
    "train_set = [\n",
    "    (train_data[i], train_labels[i]) for i in range(train_data_length)\n",
    "]"
   ]
  },
  {
   "cell_type": "code",
   "execution_count": 4,
   "id": "7cf02eac",
   "metadata": {},
   "outputs": [
    {
     "data": {
      "text/plain": [
       "[<matplotlib.lines.Line2D at 0x7f8fa625b250>]"
      ]
     },
     "execution_count": 4,
     "metadata": {},
     "output_type": "execute_result"
    },
    {
     "data": {
      "image/png": "[encoded data removed]",
      "text/plain": [
       "<Figure size 432x288 with 1 Axes>"
      ]
     },
     "metadata": {
      "needs_background": "light"
     },
     "output_type": "display_data"
    }
   ],
   "source": [
    "plt.plot(train_data[:, 0], train_data[:, 1], \".\")"
   ]
  },
  {
   "cell_type": "code",
   "execution_count": 5,
   "id": "393350ea",
   "metadata": {},
   "outputs": [],
   "source": [
    "batch_size = 32\n",
    "train_loader = torch.utils.data.DataLoader(\n",
    "    train_set, batch_size=batch_size, shuffle=True\n",
    ")"
   ]
  },
  {
   "cell_type": "code",
   "execution_count": 6,
   "id": "e8b1e55f",
   "metadata": {},
   "outputs": [],
   "source": [
    "class Discriminator(nn.Module):\n",
    "    def __init__(self):\n",
    "        super().__init__()\n",
    "        self.model = nn.Sequential(\n",
    "            nn.Linear(2, 256),\n",
    "            nn.ReLU(),\n",
    "            nn.Dropout(0.3),\n",
    "            nn.Linear(256, 128),\n",
    "            nn.ReLU(),\n",
    "            nn.Dropout(0.3),\n",
    "            nn.Linear(128, 64),\n",
    "            nn.ReLU(),\n",
    "            nn.Dropout(0.3),\n",
    "            nn.Linear(64, 1),\n",
    "            nn.Sigmoid(),\n",
    "        )\n",
    "\n",
    "    def forward(self, x):\n",
    "        output = self.model(x)\n",
    "        return output"
   ]
  },
  {
   "cell_type": "code",
   "execution_count": 7,
   "id": "3f057c84",
   "metadata": {},
   "outputs": [],
   "source": [
    "discriminator = Discriminator()"
   ]
  },
  {
   "cell_type": "code",
   "execution_count": 8,
   "id": "c25d85cc",
   "metadata": {},
   "outputs": [],
   "source": [
    "class Generator(nn.Module):\n",
    "    def __init__(self):\n",
    "        super().__init__()\n",
    "        self.model = nn.Sequential(\n",
    "            nn.Linear(2, 16),\n",
    "            nn.ReLU(),\n",
    "            nn.Linear(16, 32),\n",
    "            nn.ReLU(),\n",
    "            nn.Linear(32, 2),\n",
    "        )\n",
    "\n",
    "    def forward(self, x):\n",
    "        output = self.model(x)\n",
    "        return output\n",
    "\n",
    "generator = Generator()"
   ]
  },
  {
   "cell_type": "code",
   "execution_count": 9,
   "id": "4b039c3c",
   "metadata": {},
   "outputs": [],
   "source": [
    "lr = 0.001\n",
    "num_epochs = 300\n",
    "loss_function = nn.BCELoss()"
   ]
  },
  {
   "cell_type": "code",
   "execution_count": 10,
   "id": "ca37fcb8",
   "metadata": {},
   "outputs": [],
   "source": [
    "optimizer_discriminator = torch.optim.Adam(discriminator.parameters(), lr=lr)\n",
    "optimizer_generator = torch.optim.Adam(generator.parameters(), lr=lr)"
   ]
  },
  {
   "cell_type": "code",
   "execution_count": 11,
   "id": "809b39b9",
   "metadata": {},
   "outputs": [
    {
     "name": "stdout",
     "output_type": "stream",
     "text": [
      "Epoch: 0 Loss D.: 0.156594917178154\n",
      "Epoch: 0 Loss G.: 2.1254444122314453\n",
      "Epoch: 10 Loss D.: 0.7301512360572815\n",
      "Epoch: 10 Loss G.: 0.8579632043838501\n",
      "Epoch: 20 Loss D.: 0.578532874584198\n",
      "Epoch: 20 Loss G.: 1.1377499103546143\n",
      "Epoch: 30 Loss D.: 0.5292064547538757\n",
      "Epoch: 30 Loss G.: 0.9324856400489807\n",
      "Epoch: 40 Loss D.: 0.5641189217567444\n",
      "Epoch: 40 Loss G.: 1.4351836442947388\n",
      "Epoch: 50 Loss D.: 0.6523005962371826\n",
      "Epoch: 50 Loss G.: 0.7496519088745117\n",
      "Epoch: 60 Loss D.: 0.6775040626525879\n",
      "Epoch: 60 Loss G.: 1.028274655342102\n",
      "Epoch: 70 Loss D.: 0.6772282719612122\n",
      "Epoch: 70 Loss G.: 0.7679567933082581\n",
      "Epoch: 80 Loss D.: 0.7273123264312744\n",
      "Epoch: 80 Loss G.: 0.7488316893577576\n",
      "Epoch: 90 Loss D.: 0.6857349276542664\n",
      "Epoch: 90 Loss G.: 0.687775731086731\n",
      "Epoch: 100 Loss D.: 0.6814330816268921\n",
      "Epoch: 100 Loss G.: 0.686194896697998\n",
      "Epoch: 110 Loss D.: 0.6851702332496643\n",
      "Epoch: 110 Loss G.: 0.6976054906845093\n",
      "Epoch: 120 Loss D.: 0.6846659183502197\n",
      "Epoch: 120 Loss G.: 0.6994640827178955\n",
      "Epoch: 130 Loss D.: 0.6765981316566467\n",
      "Epoch: 130 Loss G.: 0.6752378344535828\n",
      "Epoch: 140 Loss D.: 0.6508114337921143\n",
      "Epoch: 140 Loss G.: 0.8325619101524353\n",
      "Epoch: 150 Loss D.: 0.6850574612617493\n",
      "Epoch: 150 Loss G.: 0.6771517992019653\n",
      "Epoch: 160 Loss D.: 0.6037262082099915\n",
      "Epoch: 160 Loss G.: 1.0093333721160889\n",
      "Epoch: 170 Loss D.: 0.6718543171882629\n",
      "Epoch: 170 Loss G.: 0.6992430090904236\n",
      "Epoch: 180 Loss D.: 0.6780185103416443\n",
      "Epoch: 180 Loss G.: 0.7011319994926453\n",
      "Epoch: 190 Loss D.: 0.6244316101074219\n",
      "Epoch: 190 Loss G.: 0.8675180077552795\n",
      "Epoch: 200 Loss D.: 0.6845023036003113\n",
      "Epoch: 200 Loss G.: 0.619415283203125\n",
      "Epoch: 210 Loss D.: 0.5877319574356079\n",
      "Epoch: 210 Loss G.: 1.0612378120422363\n",
      "Epoch: 220 Loss D.: 0.6671802401542664\n",
      "Epoch: 220 Loss G.: 0.7861676216125488\n",
      "Epoch: 230 Loss D.: 0.732273519039154\n",
      "Epoch: 230 Loss G.: 0.6535924077033997\n",
      "Epoch: 240 Loss D.: 0.6535305976867676\n",
      "Epoch: 240 Loss G.: 0.797318696975708\n",
      "Epoch: 250 Loss D.: 0.5856316089630127\n",
      "Epoch: 250 Loss G.: 0.9338578581809998\n",
      "Epoch: 260 Loss D.: 0.6212349534034729\n",
      "Epoch: 260 Loss G.: 1.0013799667358398\n",
      "Epoch: 270 Loss D.: 0.691120982170105\n",
      "Epoch: 270 Loss G.: 0.7461955547332764\n",
      "Epoch: 280 Loss D.: 0.6069978475570679\n",
      "Epoch: 280 Loss G.: 0.8309184908866882\n",
      "Epoch: 290 Loss D.: 0.6249678134918213\n",
      "Epoch: 290 Loss G.: 0.8889110088348389\n"
     ]
    }
   ],
   "source": [
    "for epoch in range(num_epochs):\n",
    "    for n, (real_samples, _) in enumerate(train_loader):\n",
    "        # Data for training the discriminator\n",
    "        real_samples_labels = torch.ones((batch_size, 1))\n",
    "        latent_space_samples = torch.randn((batch_size, 2))\n",
    "        generated_samples = generator(latent_space_samples)\n",
    "        generated_samples_labels = torch.zeros((batch_size, 1))\n",
    "        all_samples = torch.cat((real_samples, generated_samples))\n",
    "        all_samples_labels = torch.cat(\n",
    "            (real_samples_labels, generated_samples_labels)\n",
    "        )\n",
    "\n",
    "        # Training the discriminator\n",
    "        discriminator.zero_grad()\n",
    "        output_discriminator = discriminator(all_samples)\n",
    "        loss_discriminator = loss_function(\n",
    "            output_discriminator, all_samples_labels)\n",
    "        loss_discriminator.backward()\n",
    "        optimizer_discriminator.step()\n",
    "\n",
    "        # Data for training the generator\n",
    "        latent_space_samples = torch.randn((batch_size, 2))\n",
    "\n",
    "        # Training the generator\n",
    "        generator.zero_grad()\n",
    "        generated_samples = generator(latent_space_samples)\n",
    "        output_discriminator_generated = discriminator(generated_samples)\n",
    "        loss_generator = loss_function(\n",
    "            output_discriminator_generated, real_samples_labels\n",
    "        )\n",
    "        loss_generator.backward()\n",
    "        optimizer_generator.step()\n",
    "\n",
    "        # Show loss\n",
    "        if epoch % 10 == 0 and n == batch_size - 1:\n",
    "            print(f\"Epoch: {epoch} Loss D.: {loss_discriminator}\")\n",
    "            print(f\"Epoch: {epoch} Loss G.: {loss_generator}\")"
   ]
  },
  {
   "cell_type": "code",
   "execution_count": 12,
   "id": "a240fc09",
   "metadata": {},
   "outputs": [],
   "source": [
    "latent_space_samples = torch.randn(100, 2)\n",
    "generated_samples = generator(latent_space_samples)"
   ]
  },
  {
   "cell_type": "code",
   "execution_count": 13,
   "id": "95112ed8",
   "metadata": {},
   "outputs": [
    {
     "data": {
      "text/plain": [
       "[<matplotlib.lines.Line2D at 0x7f8fa9e0a0a0>]"
      ]
     },
     "execution_count": 13,
     "metadata": {},
     "output_type": "execute_result"
    },
    {
     "data": {
      "image/png": "[encoded data removed]",
      "text/plain": [
       "<Figure size 432x288 with 1 Axes>"
      ]
     },
     "metadata": {
      "needs_background": "light"
     },
     "output_type": "display_data"
    }
   ],
   "source": [
    "generated_samples = generated_samples.detach()\n",
    "plt.plot(generated_samples[:, 0], generated_samples[:, 1], \".\")"
   ]
  },
  {
   "cell_type": "code",
   "execution_count": null,
   "id": "854a12bd",
   "metadata": {},
   "outputs": [],
   "source": []
  }
 ],
 "metadata": {
  "kernelspec": {
   "display_name": "gan",
   "language": "python",
   "name": "gan"
  },
  "language_info": {
   "codemirror_mode": {
    "name": "ipython",
    "version": 3
   },
   "file_extension": ".py",
   "mimetype": "text/x-python",
   "name": "python",
   "nbconvert_exporter": "python",
   "pygments_lexer": "ipython3",
   "version": "3.8.12"
  }
 },
 "nbformat": 4,
 "nbformat_minor": 5
}
